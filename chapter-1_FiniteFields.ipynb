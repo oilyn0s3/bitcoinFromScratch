{
 "cells": [
  {
   "attachments": {},
   "cell_type": "markdown",
   "metadata": {},
   "source": [
    "### Finite Fields\n",
    "A finite set of numbers and two operations + and * that satisfy the following:\n",
    "1. If _a_ and _b_ are in the set, _a + b_ and _a * b_ are in the set, this property is called closed.\n",
    "    This means we have to define multiplicaition and additions\n",
    "2. _0_ has to be in the set, also known as Additive Identity and _a + 0 = a_.\n",
    "3. _1_ has to be in the set, also known as Multiplicative Identity and _a * 1 = a_.\n",
    "4. "
   ]
  },
  {
   "cell_type": "code",
   "execution_count": 1,
   "metadata": {},
   "outputs": [
    {
     "name": "stdout",
     "output_type": "stream",
     "text": [
      "False\n",
      "True\n",
      "True\n",
      "False\n"
     ]
    }
   ],
   "source": [
    "#basic building blocks of Finite Field, checking if an element is a Field Element or not.\n",
    "\n",
    "class FieldElement:\n",
    "    def __init__(self, num, prime):\n",
    "        if num >= prime or num < 0: # because finite field element should be in range of 0 to prime - 1 or order - 1  \n",
    "            error = 'Num {} not in Finite Field range 0 to {}'.format(num, prime - 1)\n",
    "            raise ValueError(error)\n",
    "        self.num = num\n",
    "        self.prime = prime\n",
    "\n",
    "    def __repr__(self):\n",
    "        return \"FieldElement_{}({})\".format(self.prime, self.num)\n",
    "    \n",
    "    def __eq__(self, other):  #checks if two elements are equal \n",
    "        if other is None:\n",
    "            return False\n",
    "        return self.num == other.num and self.prime == other.prime\n",
    "\n",
    "    def __ne__(self, other): #overriding != operator and 'other' is the right hand side operand\n",
    "        return not (self == other)\n",
    "\n",
    "\n",
    "a = FieldElement(7, 13)\n",
    "b = FieldElement(6, 13)\n",
    "\n",
    "# Overriding == operator\n",
    "print(a == b)\n",
    "print(a == a)\n",
    "# Overriding != operator\n",
    "print(a != b)\n",
    "print(a != a)\n"
   ]
  }
 ],
 "metadata": {
  "kernelspec": {
   "display_name": "base",
   "language": "python",
   "name": "python3"
  },
  "language_info": {
   "codemirror_mode": {
    "name": "ipython",
    "version": 3
   },
   "file_extension": ".py",
   "mimetype": "text/x-python",
   "name": "python",
   "nbconvert_exporter": "python",
   "pygments_lexer": "ipython3",
   "version": "3.9.12 (main, Apr  4 2022, 05:22:27) [MSC v.1916 64 bit (AMD64)]"
  },
  "orig_nbformat": 4,
  "vscode": {
   "interpreter": {
    "hash": "56c151b598c137a07d41e4456219fe3b83c5b4fd15a2a414836bfbba696bd62b"
   }
  }
 },
 "nbformat": 4,
 "nbformat_minor": 2
}
